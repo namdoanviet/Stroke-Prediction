{
 "cells": [
  {
   "cell_type": "markdown",
   "id": "a1de67f1-1f96-45e1-9af4-2f817c62eca5",
   "metadata": {},
   "source": [
    "# Final Project"
   ]
  },
  {
   "cell_type": "markdown",
   "id": "ec7c4d50-c5e7-4df5-9be5-eace5db9abd3",
   "metadata": {},
   "source": [
    "![stroke_image](Data/stroke_image.png)"
   ]
  },
  {
   "cell_type": "markdown",
   "id": "72896008-0ad3-405f-8755-4d9428e0cd67",
   "metadata": {},
   "source": [
    "## 1. Thu nhập dữ liệu:"
   ]
  },
  {
   "cell_type": "markdown",
   "id": "9ca773fc-2192-40b6-a3fa-0f1f7ec70402",
   "metadata": {},
   "source": [
    "Hôm nay, chúng ta sẽ tìm hiểu về 1 căn bệnh nằm trong top 10 căn bệnh gây tử vong hàng đầu đó chính là đột quỵ và các yếu tố ảnh hưởng đến đột quỵ. Từ đó có thể dự đoán sớm những người có nguy cơ mắc phải cũng như tìm ra điểm chung của những người này để có các biện pháp ngăn ngừa giúp giảm nguy cơ đột quỵ.\n",
    "\n",
    "Đột quỵ là gì?\n",
    "\n",
    "- Đột quỵ (tai biến mạch máu não) là tình trạng não bộ bị tổn thương nghiêm trọng, xảy ra khi dòng máu cung cấp cho não bị gián đoạn hoặc có một mạch máu trong não bị vỡ. Khi đó, lượng oxy và dinh dưỡng nuôi các tế bào não bị giảm đáng kể. Trong vòng vài phút, các tế bào não bắt đầu chết dần và gây ra nhiều biến chứng nguy hiểm đến tính mạng người bệnh. \n",
    "- Theo [thống kê của WHO](https://www.who.int/en/news-room/fact-sheets/detail/the-top-10-causes-of-death), đột quỵ đứng thứ 2 trong top 10 căn bệnh gây tử vong nhiều nhất. Nó gây ra cái chết của hơn 6 triệu người, chiếm hơn 11% tổng số ca tử vong trong cùng 1 năm. "
   ]
  },
  {
   "cell_type": "markdown",
   "id": "1492e8fd-287c-44b2-9f1f-041d6c8a3a79",
   "metadata": {},
   "source": [
    "Dữ liệu được lấy từ [Stroke Prediction Dataset](https://www.kaggle.com/fedesoriano/stroke-prediction-dataset) trên kaggle của tác giả [fedesoriano](https://www.kaggle.com/fedesoriano).\n",
    "\n",
    "Với dữ liệu này, tác giả cho phép chúng ta sử dụng cho mục đích học tập. Còn nếu sử dụng cho mục đích khác như nghiên cứu, thì phải ghi nguồn tác giả. "
   ]
  },
  {
   "cell_type": "markdown",
   "id": "13f4dfba-b084-42ce-82fb-d1f66c16d048",
   "metadata": {},
   "source": [
    "## 2. Khám phá dữ liệu:"
   ]
  },
  {
   "cell_type": "markdown",
   "id": "4185221a-5110-4a68-98e6-971afe472d14",
   "metadata": {},
   "source": [
    "Đầu tiên ta sẽ đọc dữ liệu từ file"
   ]
  },
  {
   "cell_type": "code",
   "execution_count": 1,
   "id": "1f981f69-18c8-459a-83d9-095c28848536",
   "metadata": {},
   "outputs": [],
   "source": [
    "import pandas as pd\n",
    "import numpy as np\n",
    "import math\n",
    "import matplotlib.pyplot as plt\n",
    "import sklearn\n",
    "import seaborn as sns\n",
    "from sklearn import preprocessing\n",
    "from sklearn.model_selection import train_test_split\n",
    "from sklearn.preprocessing import StandardScaler\n",
    "from sklearn.neighbors import KNeighborsClassifier\n",
    "from sklearn.preprocessing import OneHotEncoder\n",
    "from sklearn.pipeline import Pipeline, make_pipeline\n",
    "from sklearn.metrics import accuracy_score\n",
    "from sklearn.neural_network import MLPClassifier\n",
    "from sklearn.metrics import confusion_matrix\n",
    "import pickle\n",
    "import itertools\n",
    "import imblearn\n",
    "from imblearn.over_sampling import SMOTE\n",
    "plt.style.use('seaborn')"
   ]
  },
  {
   "cell_type": "markdown",
   "id": "cf6148f3-ed65-4459-ae7a-b6bc401b2093",
   "metadata": {},
   "source": [
    "Ta sẽ xem thử vài dòng đầu để có cái nhìn khái quát về dữ liệu."
   ]
  },
  {
   "cell_type": "code",
   "execution_count": 2,
   "id": "145c7c40-399f-4b0c-9149-ea9f7b2be42f",
   "metadata": {},
   "outputs": [
    {
     "data": {
      "text/html": [
       "<div>\n",
       "<style scoped>\n",
       "    .dataframe tbody tr th:only-of-type {\n",
       "        vertical-align: middle;\n",
       "    }\n",
       "\n",
       "    .dataframe tbody tr th {\n",
       "        vertical-align: top;\n",
       "    }\n",
       "\n",
       "    .dataframe thead th {\n",
       "        text-align: right;\n",
       "    }\n",
       "</style>\n",
       "<table border=\"1\" class=\"dataframe\">\n",
       "  <thead>\n",
       "    <tr style=\"text-align: right;\">\n",
       "      <th></th>\n",
       "      <th>id</th>\n",
       "      <th>gender</th>\n",
       "      <th>age</th>\n",
       "      <th>hypertension</th>\n",
       "      <th>heart_disease</th>\n",
       "      <th>ever_married</th>\n",
       "      <th>work_type</th>\n",
       "      <th>Residence_type</th>\n",
       "      <th>avg_glucose_level</th>\n",
       "      <th>bmi</th>\n",
       "      <th>smoking_status</th>\n",
       "      <th>stroke</th>\n",
       "    </tr>\n",
       "  </thead>\n",
       "  <tbody>\n",
       "    <tr>\n",
       "      <th>0</th>\n",
       "      <td>9046</td>\n",
       "      <td>Male</td>\n",
       "      <td>67.0</td>\n",
       "      <td>0</td>\n",
       "      <td>1</td>\n",
       "      <td>Yes</td>\n",
       "      <td>Private</td>\n",
       "      <td>Urban</td>\n",
       "      <td>228.69</td>\n",
       "      <td>36.6</td>\n",
       "      <td>formerly smoked</td>\n",
       "      <td>1</td>\n",
       "    </tr>\n",
       "    <tr>\n",
       "      <th>1</th>\n",
       "      <td>51676</td>\n",
       "      <td>Female</td>\n",
       "      <td>61.0</td>\n",
       "      <td>0</td>\n",
       "      <td>0</td>\n",
       "      <td>Yes</td>\n",
       "      <td>Self-employed</td>\n",
       "      <td>Rural</td>\n",
       "      <td>202.21</td>\n",
       "      <td>NaN</td>\n",
       "      <td>never smoked</td>\n",
       "      <td>1</td>\n",
       "    </tr>\n",
       "    <tr>\n",
       "      <th>2</th>\n",
       "      <td>31112</td>\n",
       "      <td>Male</td>\n",
       "      <td>80.0</td>\n",
       "      <td>0</td>\n",
       "      <td>1</td>\n",
       "      <td>Yes</td>\n",
       "      <td>Private</td>\n",
       "      <td>Rural</td>\n",
       "      <td>105.92</td>\n",
       "      <td>32.5</td>\n",
       "      <td>never smoked</td>\n",
       "      <td>1</td>\n",
       "    </tr>\n",
       "    <tr>\n",
       "      <th>3</th>\n",
       "      <td>60182</td>\n",
       "      <td>Female</td>\n",
       "      <td>49.0</td>\n",
       "      <td>0</td>\n",
       "      <td>0</td>\n",
       "      <td>Yes</td>\n",
       "      <td>Private</td>\n",
       "      <td>Urban</td>\n",
       "      <td>171.23</td>\n",
       "      <td>34.4</td>\n",
       "      <td>smokes</td>\n",
       "      <td>1</td>\n",
       "    </tr>\n",
       "    <tr>\n",
       "      <th>4</th>\n",
       "      <td>1665</td>\n",
       "      <td>Female</td>\n",
       "      <td>79.0</td>\n",
       "      <td>1</td>\n",
       "      <td>0</td>\n",
       "      <td>Yes</td>\n",
       "      <td>Self-employed</td>\n",
       "      <td>Rural</td>\n",
       "      <td>174.12</td>\n",
       "      <td>24.0</td>\n",
       "      <td>never smoked</td>\n",
       "      <td>1</td>\n",
       "    </tr>\n",
       "  </tbody>\n",
       "</table>\n",
       "</div>"
      ],
      "text/plain": [
       "      id  gender   age  hypertension  heart_disease ever_married  \\\n",
       "0   9046    Male  67.0             0              1          Yes   \n",
       "1  51676  Female  61.0             0              0          Yes   \n",
       "2  31112    Male  80.0             0              1          Yes   \n",
       "3  60182  Female  49.0             0              0          Yes   \n",
       "4   1665  Female  79.0             1              0          Yes   \n",
       "\n",
       "       work_type Residence_type  avg_glucose_level   bmi   smoking_status  \\\n",
       "0        Private          Urban             228.69  36.6  formerly smoked   \n",
       "1  Self-employed          Rural             202.21   NaN     never smoked   \n",
       "2        Private          Rural             105.92  32.5     never smoked   \n",
       "3        Private          Urban             171.23  34.4           smokes   \n",
       "4  Self-employed          Rural             174.12  24.0     never smoked   \n",
       "\n",
       "   stroke  \n",
       "0       1  \n",
       "1       1  \n",
       "2       1  \n",
       "3       1  \n",
       "4       1  "
      ]
     },
     "execution_count": 2,
     "metadata": {},
     "output_type": "execute_result"
    }
   ],
   "source": [
    "df=pd.read_csv(\"Data/healthcare-dataset-stroke-data.csv\")\n",
    "df.head()"
   ]
  },
  {
   "cell_type": "markdown",
   "id": "bf065391-88b9-466e-b513-0d17d2e17c72",
   "metadata": {},
   "source": [
    "### Dữ liệu có bao nhiêu dòng và bao nhiêu cột?"
   ]
  },
  {
   "cell_type": "code",
   "execution_count": 3,
   "id": "68e55745-30ef-4fe5-819f-4b66b9c929cb",
   "metadata": {},
   "outputs": [
    {
     "data": {
      "text/plain": [
       "(5110, 12)"
      ]
     },
     "execution_count": 3,
     "metadata": {},
     "output_type": "execute_result"
    }
   ],
   "source": [
    "df.shape"
   ]
  },
  {
   "cell_type": "markdown",
   "id": "37e14fe7-2c44-4ea3-a0df-12baf8ee4a70",
   "metadata": {},
   "source": [
    "Dữ liệu có 5110 dòng và 12 cột.\n",
    "\n",
    "### Mỗi dòng có ý nghĩa gì? Có vấn đề các dòng có ý nghĩa khác nhau không?\n",
    "\n",
    "Mỗi dòng biểu diễn cho thông tin liên quan của mỗi một bệnh nhân. Nhìn thì ta có thể thấy các dòng không có gì bất thường\n",
    "\n",
    "### Ý nghĩa của mỗi cột:\n",
    "- id: Mã định danh của mỗi người\n",
    "- gender: Giới tính (\"Male\", \"Female\", \"Other\")\n",
    "- age: Tuổi của bệnh nhân\n",
    "- hypertension: Bệnh nhân có bị cao huyết áp không (0: Không, 1: Có)\n",
    "- heart_disease: Bệnh nhân có bị bệnh tim không (0: Không, 1: Có)\n",
    "- ever_married: Đã kết hôn chưa (\"No\",\"Yes\")\n",
    "- work_type: Loại công việc (\"Children\", \"Govt_jov\", \"Never_worked\", \"Private\" or \"Self-employed\")\n",
    "- Residence_type: Khu vực cư trú (\"Rural\": Nông thôn, \"Urban\": Đô thị)\n",
    "- avg_glucose_level: Nồng độ đường trong máu\n",
    "- bmi: Chỉ số bmi của cơ thể\n",
    "- smoking_status: Tình trạng hút thuốc (\"formerly smoked\": Trước đây có hút thuốc nhưng giờ bỏ rồi, \"never smoked\": Chưa bao giờ hút, \"smokes\": Hút thuốc, \"Unknown\": Không có thông tin)\n",
    "- stroke: Bệnh nhân có bị đột quỵ không (0: Không, 1: Có)"
   ]
  },
  {
   "cell_type": "markdown",
   "id": "da824202-c463-4a6b-b958-ba4481bc1064",
   "metadata": {},
   "source": [
    "### Dữ liệu có các dòng bị lặp không?"
   ]
  },
  {
   "cell_type": "code",
   "execution_count": 4,
   "id": "c92f9c21-bbdc-4099-bbb2-5f2322f2cc1d",
   "metadata": {},
   "outputs": [
    {
     "data": {
      "text/plain": [
       "False"
      ]
     },
     "execution_count": 4,
     "metadata": {},
     "output_type": "execute_result"
    }
   ],
   "source": [
    "have_duplicated_rows=any(df.duplicated())\n",
    "have_duplicated_rows"
   ]
  },
  {
   "cell_type": "markdown",
   "id": "1615da84-fc04-4ee2-ab53-4d3f12a95dc3",
   "metadata": {},
   "source": [
    "### Mỗi cột hiện đang có kiểu dữ liệu gì? Có cột nào có kiểu dữ liệu chưa phù hợp để có thể xử lý tiếp không?"
   ]
  },
  {
   "cell_type": "code",
   "execution_count": 5,
   "id": "c8f5505f-c7a3-4fba-b226-f7e3ce2ed11d",
   "metadata": {},
   "outputs": [
    {
     "data": {
      "text/plain": [
       "id                     int64\n",
       "gender                object\n",
       "age                  float64\n",
       "hypertension           int64\n",
       "heart_disease          int64\n",
       "ever_married          object\n",
       "work_type             object\n",
       "Residence_type        object\n",
       "avg_glucose_level    float64\n",
       "bmi                  float64\n",
       "smoking_status        object\n",
       "stroke                 int64\n",
       "dtype: object"
      ]
     },
     "execution_count": 5,
     "metadata": {},
     "output_type": "execute_result"
    }
   ],
   "source": [
    "df.dtypes"
   ]
  },
  {
   "cell_type": "markdown",
   "id": "8d18e86c-d0e6-40d6-99bd-cfa7716f54e9",
   "metadata": {},
   "source": [
    "Ta thấy có vẻ cột age hơi bất thường vì tuổi phải là 1 số nguyên, không thể là kiểu float được. còn lại thì các cột khác đều có kiểu dữ liệu phù hợp.\n",
    "\n",
    "Tí nữa ta sẽ tiền xử lý cột age ngay dưới đây"
   ]
  },
  {
   "cell_type": "markdown",
   "id": "08ba1b90-0634-4c80-a8f5-bb455ad81aee",
   "metadata": {},
   "source": [
    "### Với mỗi cột có kiểu dữ liệu dạng số (numerical), các giá trị được phân bố như thế nào?"
   ]
  },
  {
   "cell_type": "markdown",
   "id": "c2c2c3c8-b18f-47a6-bfa1-1d774900fe92",
   "metadata": {},
   "source": [
    "Hiện có vẻ có 7 cột thuộc nhóm numeric là: \"id\",\"age\",\"hypertension\",\"heart_disease\",\"avg_glucose_level\",\"bmi\" và \"stroke\". Tuy nhiên, 4 cột \"id\",\"hypertension\",\"heart_disease\" và \"stroke\" thật ra là dạng categorical( vì là mã được đánh dưới dạng số). Như vậy chỉ có 3 cột thuộc numeric là \"age\",\"avg_glucose_level\" và \"bmi\"\n",
    "\n",
    "Với mỗi cột ta sẽ tính tỉ lệ % giá trị thiếu, min và max và lưu vào dataframe nume_col_profiles_df."
   ]
  },
  {
   "cell_type": "code",
   "execution_count": 6,
   "id": "ae783884-7e48-4eed-a0bb-d1df3efc8ae4",
   "metadata": {},
   "outputs": [
    {
     "data": {
      "text/html": [
       "<div>\n",
       "<style scoped>\n",
       "    .dataframe tbody tr th:only-of-type {\n",
       "        vertical-align: middle;\n",
       "    }\n",
       "\n",
       "    .dataframe tbody tr th {\n",
       "        vertical-align: top;\n",
       "    }\n",
       "\n",
       "    .dataframe thead th {\n",
       "        text-align: right;\n",
       "    }\n",
       "</style>\n",
       "<table border=\"1\" class=\"dataframe\">\n",
       "  <thead>\n",
       "    <tr style=\"text-align: right;\">\n",
       "      <th></th>\n",
       "      <th>age</th>\n",
       "      <th>avg_glucose_level</th>\n",
       "      <th>bmi</th>\n",
       "    </tr>\n",
       "  </thead>\n",
       "  <tbody>\n",
       "    <tr>\n",
       "      <th>missing_ratio</th>\n",
       "      <td>0.00</td>\n",
       "      <td>0.00</td>\n",
       "      <td>3.933464</td>\n",
       "    </tr>\n",
       "    <tr>\n",
       "      <th>min</th>\n",
       "      <td>0.08</td>\n",
       "      <td>55.12</td>\n",
       "      <td>10.300000</td>\n",
       "    </tr>\n",
       "    <tr>\n",
       "      <th>max</th>\n",
       "      <td>82.00</td>\n",
       "      <td>271.74</td>\n",
       "      <td>97.600000</td>\n",
       "    </tr>\n",
       "  </tbody>\n",
       "</table>\n",
       "</div>"
      ],
      "text/plain": [
       "                 age  avg_glucose_level        bmi\n",
       "missing_ratio   0.00               0.00   3.933464\n",
       "min             0.08              55.12  10.300000\n",
       "max            82.00             271.74  97.600000"
      ]
     },
     "execution_count": 6,
     "metadata": {},
     "output_type": "execute_result"
    }
   ],
   "source": [
    "def missing_ratio(s):\n",
    "    return s.isna().mean()*100\n",
    "nume_col_profiles_df=df[[\"age\",\"avg_glucose_level\",\"bmi\"]].agg([missing_ratio,min,max])\n",
    "nume_col_profiles_df"
   ]
  },
  {
   "cell_type": "markdown",
   "id": "a30cf700-c83b-4477-8395-9dba9ca30776",
   "metadata": {},
   "source": [
    "Ta thấy rằng các cột \"age\" và \"avg_glucose_level\" đều có đủ giá trị, chỉ có cột \"bmi\" là thiếu gần 4% giá trị. Còn min max chỉ có 1 điểm bất thường là min của cột age là 0.08 (tuổi không thể là số thực như vậy được)\n",
    "\n",
    "Giờ ta đã xuất hiện 1 vấn đề cần tiền xử lý đó là cột age xuất hiện những giá trị số thực. \n",
    "\n",
    "---"
   ]
  },
  {
   "cell_type": "markdown",
   "id": "7fd063bb-355b-4c96-b8d6-f8d7b648287f",
   "metadata": {},
   "source": [
    "## Tiền xử lý"
   ]
  },
  {
   "cell_type": "markdown",
   "id": "cdb5b25a-5d6c-4dd8-abb7-06e5c5365d8b",
   "metadata": {},
   "source": [
    "Theo như tìm hiểu thì các giá trị age là số thực đều là của những đứa trẻ dưới 3 tuổi. Vì còn nhỏ tuổi, nên người ta tính thêm cả tháng tuổi từ đó dẫn đến số tuổi không nguyên. 1 cách để tiền xử lý là ta có thể làm tròn số tuổi của những đứa trẻ này lên, rồi sau đó ta sẽ đổi kiểu dữ liệu của cột age này về kiểu int."
   ]
  },
  {
   "cell_type": "code",
   "execution_count": 7,
   "id": "45ed40f5-99fa-4fe4-913e-09fc471cb8c1",
   "metadata": {},
   "outputs": [],
   "source": [
    "df['age']=df['age'].apply(math.ceil)\n",
    "df['age']=df['age'].astype(\"int\")"
   ]
  },
  {
   "cell_type": "markdown",
   "id": "4a60d3d8-3db4-469d-8274-d84c62bedf64",
   "metadata": {},
   "source": [
    "### Giờ ta sẽ xem lại thử kiểu dữ liệu cột age đã là \"int\" và các giá trị phân bố trong age đúng chưa?"
   ]
  },
  {
   "cell_type": "code",
   "execution_count": 8,
   "id": "c34e21f5-26e8-41b4-8704-bbc4686037fd",
   "metadata": {},
   "outputs": [
    {
     "data": {
      "text/plain": [
       "id                     int64\n",
       "gender                object\n",
       "age                    int64\n",
       "hypertension           int64\n",
       "heart_disease          int64\n",
       "ever_married          object\n",
       "work_type             object\n",
       "Residence_type        object\n",
       "avg_glucose_level    float64\n",
       "bmi                  float64\n",
       "smoking_status        object\n",
       "stroke                 int64\n",
       "dtype: object"
      ]
     },
     "execution_count": 8,
     "metadata": {},
     "output_type": "execute_result"
    }
   ],
   "source": [
    "df.dtypes"
   ]
  },
  {
   "cell_type": "code",
   "execution_count": 9,
   "id": "a3433ad6-8208-426d-9c69-ce0abf8b7fe1",
   "metadata": {},
   "outputs": [
    {
     "data": {
      "text/html": [
       "<div>\n",
       "<style scoped>\n",
       "    .dataframe tbody tr th:only-of-type {\n",
       "        vertical-align: middle;\n",
       "    }\n",
       "\n",
       "    .dataframe tbody tr th {\n",
       "        vertical-align: top;\n",
       "    }\n",
       "\n",
       "    .dataframe thead th {\n",
       "        text-align: right;\n",
       "    }\n",
       "</style>\n",
       "<table border=\"1\" class=\"dataframe\">\n",
       "  <thead>\n",
       "    <tr style=\"text-align: right;\">\n",
       "      <th></th>\n",
       "      <th>age</th>\n",
       "      <th>avg_glucose_level</th>\n",
       "      <th>bmi</th>\n",
       "    </tr>\n",
       "  </thead>\n",
       "  <tbody>\n",
       "    <tr>\n",
       "      <th>missing_ratio</th>\n",
       "      <td>0.0</td>\n",
       "      <td>0.00</td>\n",
       "      <td>3.933464</td>\n",
       "    </tr>\n",
       "    <tr>\n",
       "      <th>min</th>\n",
       "      <td>1.0</td>\n",
       "      <td>55.12</td>\n",
       "      <td>10.300000</td>\n",
       "    </tr>\n",
       "    <tr>\n",
       "      <th>max</th>\n",
       "      <td>82.0</td>\n",
       "      <td>271.74</td>\n",
       "      <td>97.600000</td>\n",
       "    </tr>\n",
       "  </tbody>\n",
       "</table>\n",
       "</div>"
      ],
      "text/plain": [
       "                age  avg_glucose_level        bmi\n",
       "missing_ratio   0.0               0.00   3.933464\n",
       "min             1.0              55.12  10.300000\n",
       "max            82.0             271.74  97.600000"
      ]
     },
     "execution_count": 9,
     "metadata": {},
     "output_type": "execute_result"
    }
   ],
   "source": [
    "nume_col_profiles_df=df[[\"age\",\"avg_glucose_level\",\"bmi\"]].agg([missing_ratio,min,max])\n",
    "nume_col_profiles_df"
   ]
  },
  {
   "cell_type": "markdown",
   "id": "658142d0-41a9-4978-b0ec-9cfa809451ec",
   "metadata": {},
   "source": [
    "Nhìn qua thì ta thấy mọi thứ đã ổn"
   ]
  },
  {
   "cell_type": "markdown",
   "id": "63e7ee17-b1c0-4f01-8bf6-bbd57b3e7f52",
   "metadata": {},
   "source": [
    "## Khám phá dữ liệu (tiếp tục)"
   ]
  },
  {
   "cell_type": "markdown",
   "id": "50ecfc01-2594-4ceb-9177-6c43c8aa86c3",
   "metadata": {},
   "source": [
    "### Với mỗi cột có kiểu dữ liệu dạng phân loại (categorical), các giá trị được phân bố như thế nào?"
   ]
  },
  {
   "cell_type": "markdown",
   "id": "f2359882-abb8-4316-9258-b023d96cc34e",
   "metadata": {},
   "source": [
    "df có 9 cột kiểu categorical là: \"id\",\"hypertension\",\"heart_disease\",\"stroke\",\"gender\",\"work_type\",\"ever_married\",\"smoking_status\" và \"Residence_type\".\n",
    "\n",
    "Ở mỗi cột categorical, ta sẽ tính tỉ lệ % giá trị thiếu, số lượng khác nhau và show ra các giá trị khác nhau (không tính giá trị thiếu)."
   ]
  },
  {
   "cell_type": "code",
   "execution_count": 10,
   "id": "025d5dd5-16f7-42eb-a663-e1f4b5bd2b6c",
   "metadata": {},
   "outputs": [
    {
     "data": {
      "text/html": [
       "<div>\n",
       "<style scoped>\n",
       "    .dataframe tbody tr th:only-of-type {\n",
       "        vertical-align: middle;\n",
       "    }\n",
       "\n",
       "    .dataframe tbody tr th {\n",
       "        vertical-align: top;\n",
       "    }\n",
       "\n",
       "    .dataframe thead th {\n",
       "        text-align: right;\n",
       "    }\n",
       "</style>\n",
       "<table border=\"1\" class=\"dataframe\">\n",
       "  <thead>\n",
       "    <tr style=\"text-align: right;\">\n",
       "      <th></th>\n",
       "      <th>id</th>\n",
       "      <th>hypertension</th>\n",
       "      <th>heart_disease</th>\n",
       "      <th>gender</th>\n",
       "      <th>work_type</th>\n",
       "      <th>Residence_type</th>\n",
       "      <th>ever_married</th>\n",
       "      <th>smoking_status</th>\n",
       "      <th>stroke</th>\n",
       "    </tr>\n",
       "  </thead>\n",
       "  <tbody>\n",
       "    <tr>\n",
       "      <th>missing_ratio</th>\n",
       "      <td>0.0</td>\n",
       "      <td>0.0</td>\n",
       "      <td>0.0</td>\n",
       "      <td>0.0</td>\n",
       "      <td>0.0</td>\n",
       "      <td>0.0</td>\n",
       "      <td>0.0</td>\n",
       "      <td>0.0</td>\n",
       "      <td>0.0</td>\n",
       "    </tr>\n",
       "    <tr>\n",
       "      <th>num_diff_vals</th>\n",
       "      <td>5110</td>\n",
       "      <td>2</td>\n",
       "      <td>2</td>\n",
       "      <td>3</td>\n",
       "      <td>5</td>\n",
       "      <td>2</td>\n",
       "      <td>2</td>\n",
       "      <td>4</td>\n",
       "      <td>2</td>\n",
       "    </tr>\n",
       "    <tr>\n",
       "      <th>diff_vals</th>\n",
       "      <td>[9046, 51676, 31112, 60182, 1665, 56669, 53882...</td>\n",
       "      <td>[0, 1]</td>\n",
       "      <td>[1, 0]</td>\n",
       "      <td>[Male, Female, Other]</td>\n",
       "      <td>[Private, Self-employed, Govt_job, children, N...</td>\n",
       "      <td>[Urban, Rural]</td>\n",
       "      <td>[Yes, No]</td>\n",
       "      <td>[formerly smoked, never smoked, smokes, Unknown]</td>\n",
       "      <td>[1, 0]</td>\n",
       "    </tr>\n",
       "  </tbody>\n",
       "</table>\n",
       "</div>"
      ],
      "text/plain": [
       "                                                              id hypertension  \\\n",
       "missing_ratio                                                0.0          0.0   \n",
       "num_diff_vals                                               5110            2   \n",
       "diff_vals      [9046, 51676, 31112, 60182, 1665, 56669, 53882...       [0, 1]   \n",
       "\n",
       "              heart_disease                 gender  \\\n",
       "missing_ratio           0.0                    0.0   \n",
       "num_diff_vals             2                      3   \n",
       "diff_vals            [1, 0]  [Male, Female, Other]   \n",
       "\n",
       "                                                       work_type  \\\n",
       "missing_ratio                                                0.0   \n",
       "num_diff_vals                                                  5   \n",
       "diff_vals      [Private, Self-employed, Govt_job, children, N...   \n",
       "\n",
       "               Residence_type ever_married  \\\n",
       "missing_ratio             0.0          0.0   \n",
       "num_diff_vals               2            2   \n",
       "diff_vals      [Urban, Rural]    [Yes, No]   \n",
       "\n",
       "                                                 smoking_status  stroke  \n",
       "missing_ratio                                               0.0     0.0  \n",
       "num_diff_vals                                                 4       2  \n",
       "diff_vals      [formerly smoked, never smoked, smokes, Unknown]  [1, 0]  "
      ]
     },
     "execution_count": 10,
     "metadata": {},
     "output_type": "execute_result"
    }
   ],
   "source": [
    "def num_diff_vals(s):\n",
    "    return s.nunique()\n",
    "def diff_vals(s):\n",
    "    return s.dropna().unique()\n",
    "cate_df=df[[\"id\",\"hypertension\",\"heart_disease\",\"gender\",\"work_type\",\"Residence_type\",\"ever_married\",\"smoking_status\",\"stroke\"]]\n",
    "cate_col_profiles_df=cate_df.agg([missing_ratio,num_diff_vals,diff_vals])\n",
    "cate_col_profiles_df"
   ]
  },
  {
   "cell_type": "markdown",
   "id": "71368671-e24d-434a-bf2a-b9ea235caf8d",
   "metadata": {},
   "source": [
    "*Ta có thể thấy không có cột nào thiếu giá trị. Số lượng giá trị khác nhau và các giá trị khác nhau cũng không có gì bất thường*"
   ]
  },
  {
   "cell_type": "markdown",
   "id": "995ae170-821a-4433-8f6d-9eedee4e055d",
   "metadata": {},
   "source": [
    "## 3. Đưa ra các câu hỏi có ý nghĩa cần trả lời\n",
    "\n",
    "---"
   ]
  },
  {
   "cell_type": "markdown",
   "id": "892eb2b8-d65a-4adb-9543-4f1dd08170af",
   "metadata": {},
   "source": [
    "- Ở mỗi giới tính thì chỉ số bmi (người gầy, bình thường, thừa cân hay béo phì các cấp độ) có tỉ lệ trung bình bị đột quy như thế nào?  "
   ]
  },
  {
   "cell_type": "markdown",
   "id": "18c025e1-daba-4f9f-bf29-fe51dd3183fd",
   "metadata": {},
   "source": [
    "Trả lời được câu hỏi này: Ta sẽ có thể biết được ở mỗi giới tính người nào dễ có nguy cơ bị đột quỵ nhất. Từ đó có thể dự đoán sớm nhóm người nguy cơ\n",
    "mắc cao để báo trước cho những người này cần phải điều chỉnh chế độ ăn uống, sinh hoạt hàng ngày giúp cải thiện chỉ số bmi nhằm ngăn ngừa khả năng bị\n",
    "đột quỵ."
   ]
  },
  {
   "cell_type": "markdown",
   "id": "416ddcf6-6015-4fcb-92d2-9f9dee627823",
   "metadata": {},
   "source": [
    "## 4. Tiền xử lý + phân tích dữ liệu để trả lời cho từng câu hỏi\n",
    "\n",
    "---"
   ]
  },
  {
   "cell_type": "markdown",
   "id": "80f03bac-dc3f-4b81-8c5d-8f79daf6d19b",
   "metadata": {},
   "source": [
    "### Ở mỗi giới tính thì chỉ số bmi (người gầy, bình thường, thừa cân hay béo phì các cấp độ) có tỉ lệ trung bình bị đột quy như thế nào?\n",
    "\n",
    "Để trả lời câu hỏi này ta cần phải tiền xử lý dữ liệu:\n",
    "\n",
    "- Vì số lượng giá trị Other trong giới tính rất nhỏ nên ta sẽ bỏ qua, chỉ lấy dữ liệu có giới tính nam và nữ \n",
    "\n",
    "- Ở quá trình khám phá dữ liệu ta thấy cột bmi thiếu giá trị nên ta loại bỏ những dòng mà thiếu giá trị đó.\n",
    "\n",
    "- Ta chia chỉ số bmi thành 6 nhóm theo [chuẩn của tổ chức WHO](https://www.euro.who.int/en/health-topics/disease-prevention/nutrition/a-healthy-lifestyle/body-mass-index-bmi)\n",
    "\n",
    "  - 1. Dưới 18.5: Gầy\n",
    "  - 2. Từ 18-5->24.9: Bình thường\n",
    "  - 3. Từ 25.0->29.9: Tiền béo phì\n",
    "  - 4. Từ 30->34.9: Béo phì cấp độ 1\n",
    "  - 5. Từ 35->39.9: Béo phì cấp độ 2\n",
    "  - 6. Trên 40: Béo phì cấp độ 3"
   ]
  },
  {
   "cell_type": "markdown",
   "id": "eea27cc5-2984-40e5-90b2-f1434fea31c6",
   "metadata": {},
   "source": [
    "### Tiền xử lý"
   ]
  },
  {
   "cell_type": "markdown",
   "id": "d232ca31-6298-4f81-a35b-db646236057b",
   "metadata": {},
   "source": [
    "#### Bỏ các dòng có giá trị 'Other' trong gender"
   ]
  },
  {
   "cell_type": "code",
   "execution_count": 11,
   "id": "972b9bcc-1589-40b6-90f8-fd3fe97c8a5f",
   "metadata": {},
   "outputs": [
    {
     "data": {
      "text/plain": [
       "(5110, 12)"
      ]
     },
     "execution_count": 11,
     "metadata": {},
     "output_type": "execute_result"
    }
   ],
   "source": [
    "df.shape"
   ]
  },
  {
   "cell_type": "code",
   "execution_count": 12,
   "id": "0d4e7e1c-d2d7-4230-acba-ddc2c02e80dc",
   "metadata": {},
   "outputs": [],
   "source": [
    "df_q1=df[df['gender']!='Other']"
   ]
  },
  {
   "cell_type": "code",
   "execution_count": 13,
   "id": "8cbc412e-d8ac-4ecd-a9d7-eeae58a592d8",
   "metadata": {},
   "outputs": [
    {
     "data": {
      "text/plain": [
       "(5109, 12)"
      ]
     },
     "execution_count": 13,
     "metadata": {},
     "output_type": "execute_result"
    }
   ],
   "source": [
    "df_q1.shape"
   ]
  },
  {
   "cell_type": "markdown",
   "id": "ce67a376-fb07-4cfb-ac68-3ea3def702fd",
   "metadata": {},
   "source": [
    "#### Loại bỏ những dòng mà thiếu giá trị ở cột bmi"
   ]
  },
  {
   "cell_type": "code",
   "execution_count": 14,
   "id": "107dc4a2-e857-4fe4-9346-14f6e23eb638",
   "metadata": {},
   "outputs": [],
   "source": [
    "df_q1=df_q1[df_q1['bmi'].notnull()]"
   ]
  },
  {
   "cell_type": "code",
   "execution_count": 15,
   "id": "54ddb463-c20e-466c-8512-25a7e5bf784d",
   "metadata": {},
   "outputs": [
    {
     "data": {
      "text/plain": [
       "(4908, 12)"
      ]
     },
     "execution_count": 15,
     "metadata": {},
     "output_type": "execute_result"
    }
   ],
   "source": [
    "df_q1.shape"
   ]
  },
  {
   "cell_type": "markdown",
   "id": "d7276c69-9281-440b-9bca-e907cad43914",
   "metadata": {},
   "source": [
    "#### Chia chỉ số bmi thành 6 nhóm theo chuẩn WHO\n",
    "\n",
    "Ta sẽ lưu 6 nhóm tương ứng cột bin"
   ]
  },
  {
   "cell_type": "code",
   "execution_count": 16,
   "id": "7d47d886-9b32-48fa-9872-e5c4b0e13086",
   "metadata": {},
   "outputs": [
    {
     "data": {
      "text/html": [
       "<div>\n",
       "<style scoped>\n",
       "    .dataframe tbody tr th:only-of-type {\n",
       "        vertical-align: middle;\n",
       "    }\n",
       "\n",
       "    .dataframe tbody tr th {\n",
       "        vertical-align: top;\n",
       "    }\n",
       "\n",
       "    .dataframe thead th {\n",
       "        text-align: right;\n",
       "    }\n",
       "</style>\n",
       "<table border=\"1\" class=\"dataframe\">\n",
       "  <thead>\n",
       "    <tr style=\"text-align: right;\">\n",
       "      <th></th>\n",
       "      <th>id</th>\n",
       "      <th>gender</th>\n",
       "      <th>age</th>\n",
       "      <th>hypertension</th>\n",
       "      <th>heart_disease</th>\n",
       "      <th>ever_married</th>\n",
       "      <th>work_type</th>\n",
       "      <th>Residence_type</th>\n",
       "      <th>avg_glucose_level</th>\n",
       "      <th>bmi</th>\n",
       "      <th>smoking_status</th>\n",
       "      <th>stroke</th>\n",
       "      <th>bin</th>\n",
       "    </tr>\n",
       "  </thead>\n",
       "  <tbody>\n",
       "    <tr>\n",
       "      <th>0</th>\n",
       "      <td>9046</td>\n",
       "      <td>Male</td>\n",
       "      <td>67</td>\n",
       "      <td>0</td>\n",
       "      <td>1</td>\n",
       "      <td>Yes</td>\n",
       "      <td>Private</td>\n",
       "      <td>Urban</td>\n",
       "      <td>228.69</td>\n",
       "      <td>36.6</td>\n",
       "      <td>formerly smoked</td>\n",
       "      <td>1</td>\n",
       "      <td>5</td>\n",
       "    </tr>\n",
       "    <tr>\n",
       "      <th>2</th>\n",
       "      <td>31112</td>\n",
       "      <td>Male</td>\n",
       "      <td>80</td>\n",
       "      <td>0</td>\n",
       "      <td>1</td>\n",
       "      <td>Yes</td>\n",
       "      <td>Private</td>\n",
       "      <td>Rural</td>\n",
       "      <td>105.92</td>\n",
       "      <td>32.5</td>\n",
       "      <td>never smoked</td>\n",
       "      <td>1</td>\n",
       "      <td>4</td>\n",
       "    </tr>\n",
       "    <tr>\n",
       "      <th>3</th>\n",
       "      <td>60182</td>\n",
       "      <td>Female</td>\n",
       "      <td>49</td>\n",
       "      <td>0</td>\n",
       "      <td>0</td>\n",
       "      <td>Yes</td>\n",
       "      <td>Private</td>\n",
       "      <td>Urban</td>\n",
       "      <td>171.23</td>\n",
       "      <td>34.4</td>\n",
       "      <td>smokes</td>\n",
       "      <td>1</td>\n",
       "      <td>4</td>\n",
       "    </tr>\n",
       "    <tr>\n",
       "      <th>4</th>\n",
       "      <td>1665</td>\n",
       "      <td>Female</td>\n",
       "      <td>79</td>\n",
       "      <td>1</td>\n",
       "      <td>0</td>\n",
       "      <td>Yes</td>\n",
       "      <td>Self-employed</td>\n",
       "      <td>Rural</td>\n",
       "      <td>174.12</td>\n",
       "      <td>24.0</td>\n",
       "      <td>never smoked</td>\n",
       "      <td>1</td>\n",
       "      <td>2</td>\n",
       "    </tr>\n",
       "    <tr>\n",
       "      <th>5</th>\n",
       "      <td>56669</td>\n",
       "      <td>Male</td>\n",
       "      <td>81</td>\n",
       "      <td>0</td>\n",
       "      <td>0</td>\n",
       "      <td>Yes</td>\n",
       "      <td>Private</td>\n",
       "      <td>Urban</td>\n",
       "      <td>186.21</td>\n",
       "      <td>29.0</td>\n",
       "      <td>formerly smoked</td>\n",
       "      <td>1</td>\n",
       "      <td>3</td>\n",
       "    </tr>\n",
       "  </tbody>\n",
       "</table>\n",
       "</div>"
      ],
      "text/plain": [
       "      id  gender  age  hypertension  heart_disease ever_married  \\\n",
       "0   9046    Male   67             0              1          Yes   \n",
       "2  31112    Male   80             0              1          Yes   \n",
       "3  60182  Female   49             0              0          Yes   \n",
       "4   1665  Female   79             1              0          Yes   \n",
       "5  56669    Male   81             0              0          Yes   \n",
       "\n",
       "       work_type Residence_type  avg_glucose_level   bmi   smoking_status  \\\n",
       "0        Private          Urban             228.69  36.6  formerly smoked   \n",
       "2        Private          Rural             105.92  32.5     never smoked   \n",
       "3        Private          Urban             171.23  34.4           smokes   \n",
       "4  Self-employed          Rural             174.12  24.0     never smoked   \n",
       "5        Private          Urban             186.21  29.0  formerly smoked   \n",
       "\n",
       "   stroke bin  \n",
       "0       1   5  \n",
       "2       1   4  \n",
       "3       1   4  \n",
       "4       1   2  \n",
       "5       1   3  "
      ]
     },
     "execution_count": 16,
     "metadata": {},
     "output_type": "execute_result"
    }
   ],
   "source": [
    "bins=[0,18.5,25,30,35,40,100]\n",
    "labels=[1,2,3,4,5,6]\n",
    "df_q1['bin']=pd.cut(df_q1['bmi'],right=False,bins=bins,labels=labels)\n",
    "df_q1.head()"
   ]
  },
  {
   "cell_type": "markdown",
   "id": "207a3b8a-267d-4005-a194-1678f2e0fe2b",
   "metadata": {},
   "source": [
    "### Phân tích dữ liệu để trả lời câu hỏi"
   ]
  },
  {
   "cell_type": "markdown",
   "id": "6fc5df8b-343b-48fd-9c9d-d0f9f1225975",
   "metadata": {},
   "source": [
    "Để trả lời câu hỏi trên, ta cần thực hiện các bước sau:\n",
    "- Bước 1: Tính dataframes gồm 2 cột (Male, Female) ứng với giới tính, 6 dòng ứng với các nhóm được chia từ chỉ số bmi. Giá trị ở mỗi ô trong dataframe là tỉ lệ trung bình của người bị đột quỵ tương ứng.\n",
    "- Bước 2: Từ kết quả trên, ta vẽ 2 đường dạng line (ứng với 2 giới tính) trên cùng đồ thị. Trong đó trục hoành là nhóm bmi, trục tung là tỉ lệ bị đột quỵ"
   ]
  },
  {
   "cell_type": "markdown",
   "id": "01902528-bb01-4686-b80e-fc7649066846",
   "metadata": {},
   "source": [
    "Bước 1:"
   ]
  },
  {
   "cell_type": "code",
   "execution_count": 17,
   "id": "0b6a4d55-004a-4692-b838-0026ab5d2b14",
   "metadata": {},
   "outputs": [
    {
     "data": {
      "text/html": [
       "<div>\n",
       "<style scoped>\n",
       "    .dataframe tbody tr th:only-of-type {\n",
       "        vertical-align: middle;\n",
       "    }\n",
       "\n",
       "    .dataframe tbody tr th {\n",
       "        vertical-align: top;\n",
       "    }\n",
       "\n",
       "    .dataframe thead th {\n",
       "        text-align: right;\n",
       "    }\n",
       "</style>\n",
       "<table border=\"1\" class=\"dataframe\">\n",
       "  <thead>\n",
       "    <tr style=\"text-align: right;\">\n",
       "      <th>gender</th>\n",
       "      <th>Female</th>\n",
       "      <th>Male</th>\n",
       "    </tr>\n",
       "    <tr>\n",
       "      <th>bin</th>\n",
       "      <th></th>\n",
       "      <th></th>\n",
       "    </tr>\n",
       "  </thead>\n",
       "  <tbody>\n",
       "    <tr>\n",
       "      <th>1</th>\n",
       "      <td>0.578035</td>\n",
       "      <td>0.000000</td>\n",
       "    </tr>\n",
       "    <tr>\n",
       "      <th>2</th>\n",
       "      <td>3.186275</td>\n",
       "      <td>2.112676</td>\n",
       "    </tr>\n",
       "    <tr>\n",
       "      <th>3</th>\n",
       "      <td>5.044136</td>\n",
       "      <td>5.681818</td>\n",
       "    </tr>\n",
       "    <tr>\n",
       "      <th>4</th>\n",
       "      <td>5.482042</td>\n",
       "      <td>5.732484</td>\n",
       "    </tr>\n",
       "    <tr>\n",
       "      <th>5</th>\n",
       "      <td>4.026846</td>\n",
       "      <td>5.288462</td>\n",
       "    </tr>\n",
       "    <tr>\n",
       "      <th>6</th>\n",
       "      <td>4.166667</td>\n",
       "      <td>5.555556</td>\n",
       "    </tr>\n",
       "  </tbody>\n",
       "</table>\n",
       "</div>"
      ],
      "text/plain": [
       "gender    Female      Male\n",
       "bin                       \n",
       "1       0.578035  0.000000\n",
       "2       3.186275  2.112676\n",
       "3       5.044136  5.681818\n",
       "4       5.482042  5.732484\n",
       "5       4.026846  5.288462\n",
       "6       4.166667  5.555556"
      ]
     },
     "execution_count": 17,
     "metadata": {},
     "output_type": "execute_result"
    }
   ],
   "source": [
    "df_gen_bin=df_q1.groupby([\"bin\",\"gender\"])['stroke'].mean()*100\n",
    "df_gen_bin=df_gen_bin.unstack(1)\n",
    "df_gen_bin"
   ]
  },
  {
   "cell_type": "markdown",
   "id": "474e25ba-77f5-4f94-88ee-204e17e5962c",
   "metadata": {},
   "source": [
    "Bước 2:"
   ]
  },
  {
   "cell_type": "code",
   "execution_count": 18,
   "id": "5c342c61-8964-40a6-b0b0-a2ce518dbbb5",
   "metadata": {},
   "outputs": [
    {
     "data": {
      "image/png": "[encoded data removed]",
      "text/plain": [
       "<Figure size 576x396 with 1 Axes>"
      ]
     },
     "metadata": {},
     "output_type": "display_data"
    }
   ],
   "source": [
    "df_gen_bin.plot.line(marker='o')\n",
    "plt.ylabel(\"Tỉ lệ đột quỵ trung bình\")\n",
    "plt.xlabel(\"Nhóm bmi\");"
   ]
  },
  {
   "cell_type": "markdown",
   "id": "44b20106-e924-4d3e-823f-981d06901534",
   "metadata": {},
   "source": [
    "Ta thấy ở giới tính nào thì chỉ số bmi cũng có quan hệ đồng biến với tỉ lệ bị đột quỵ hay nói cách khác những người bị béo phì có nguy cơ bị đột quỵ cao nhất (nhóm 3,4,5,6) còn người gầy ta thấy hiếm khi bị đột quỵ. Có vẻ những người bị béo phì bây giờ nên chú ý lại chế độ sinh hoạt ăn uống hàng ngày để giảm cân nếu không muốn có nguy cơ cao bị đột quỵ. \n",
    "\n",
    "Hmm, sau khi xem biểu đồ này thì 1 người gầy như mình lại hết ý định tăng cân :(("
   ]
  },
  {
   "cell_type": "markdown",
   "id": "d6e50b25-d2f0-47d3-9f90-2c49c39fa5aa",
   "metadata": {},
   "source": [
    "## Mô hình hóa\n",
    "### Tiền xử lý"
   ]
  },
  {
   "cell_type": "markdown",
   "id": "f5481ddf-60dc-441d-8a3a-512c0c65857a",
   "metadata": {},
   "source": [
    "Đầu tiên, ta sẽ chuyển những cột numeric về dạng category bằng cách chia bin. Nếu ta để nguyên thì các cột numeric sẽ có rất nhiều giá trị khác nhau."
   ]
  },
  {
   "cell_type": "code",
   "execution_count": 19,
   "id": "90533ec8-4cd3-48e6-8c53-6e109953b8ed",
   "metadata": {},
   "outputs": [
    {
     "data": {
      "text/html": [
       "<div>\n",
       "<style scoped>\n",
       "    .dataframe tbody tr th:only-of-type {\n",
       "        vertical-align: middle;\n",
       "    }\n",
       "\n",
       "    .dataframe tbody tr th {\n",
       "        vertical-align: top;\n",
       "    }\n",
       "\n",
       "    .dataframe thead th {\n",
       "        text-align: right;\n",
       "    }\n",
       "</style>\n",
       "<table border=\"1\" class=\"dataframe\">\n",
       "  <thead>\n",
       "    <tr style=\"text-align: right;\">\n",
       "      <th></th>\n",
       "      <th>gender</th>\n",
       "      <th>hypertension</th>\n",
       "      <th>heart_disease</th>\n",
       "      <th>ever_married</th>\n",
       "      <th>work_type</th>\n",
       "      <th>Residence_type</th>\n",
       "      <th>smoking_status</th>\n",
       "      <th>stroke</th>\n",
       "      <th>bmi_bin</th>\n",
       "      <th>age_bin</th>\n",
       "      <th>glu_bin</th>\n",
       "    </tr>\n",
       "  </thead>\n",
       "  <tbody>\n",
       "    <tr>\n",
       "      <th>0</th>\n",
       "      <td>Male</td>\n",
       "      <td>0</td>\n",
       "      <td>1</td>\n",
       "      <td>Yes</td>\n",
       "      <td>Private</td>\n",
       "      <td>Urban</td>\n",
       "      <td>formerly smoked</td>\n",
       "      <td>1</td>\n",
       "      <td>5</td>\n",
       "      <td>&gt; 60</td>\n",
       "      <td>&gt; 200</td>\n",
       "    </tr>\n",
       "    <tr>\n",
       "      <th>2</th>\n",
       "      <td>Male</td>\n",
       "      <td>0</td>\n",
       "      <td>1</td>\n",
       "      <td>Yes</td>\n",
       "      <td>Private</td>\n",
       "      <td>Rural</td>\n",
       "      <td>never smoked</td>\n",
       "      <td>1</td>\n",
       "      <td>4</td>\n",
       "      <td>&gt; 60</td>\n",
       "      <td>0-139</td>\n",
       "    </tr>\n",
       "    <tr>\n",
       "      <th>3</th>\n",
       "      <td>Female</td>\n",
       "      <td>0</td>\n",
       "      <td>0</td>\n",
       "      <td>Yes</td>\n",
       "      <td>Private</td>\n",
       "      <td>Urban</td>\n",
       "      <td>smokes</td>\n",
       "      <td>1</td>\n",
       "      <td>4</td>\n",
       "      <td>25-60</td>\n",
       "      <td>140-199</td>\n",
       "    </tr>\n",
       "    <tr>\n",
       "      <th>4</th>\n",
       "      <td>Female</td>\n",
       "      <td>1</td>\n",
       "      <td>0</td>\n",
       "      <td>Yes</td>\n",
       "      <td>Self-employed</td>\n",
       "      <td>Rural</td>\n",
       "      <td>never smoked</td>\n",
       "      <td>1</td>\n",
       "      <td>2</td>\n",
       "      <td>&gt; 60</td>\n",
       "      <td>140-199</td>\n",
       "    </tr>\n",
       "    <tr>\n",
       "      <th>5</th>\n",
       "      <td>Male</td>\n",
       "      <td>0</td>\n",
       "      <td>0</td>\n",
       "      <td>Yes</td>\n",
       "      <td>Private</td>\n",
       "      <td>Urban</td>\n",
       "      <td>formerly smoked</td>\n",
       "      <td>1</td>\n",
       "      <td>3</td>\n",
       "      <td>&gt; 60</td>\n",
       "      <td>140-199</td>\n",
       "    </tr>\n",
       "  </tbody>\n",
       "</table>\n",
       "</div>"
      ],
      "text/plain": [
       "   gender  hypertension  heart_disease ever_married      work_type  \\\n",
       "0    Male             0              1          Yes        Private   \n",
       "2    Male             0              1          Yes        Private   \n",
       "3  Female             0              0          Yes        Private   \n",
       "4  Female             1              0          Yes  Self-employed   \n",
       "5    Male             0              0          Yes        Private   \n",
       "\n",
       "  Residence_type   smoking_status  stroke bmi_bin age_bin  glu_bin  \n",
       "0          Urban  formerly smoked       1       5    > 60    > 200  \n",
       "2          Rural     never smoked       1       4    > 60    0-139  \n",
       "3          Urban           smokes       1       4   25-60  140-199  \n",
       "4          Rural     never smoked       1       2    > 60  140-199  \n",
       "5          Urban  formerly smoked       1       3    > 60  140-199  "
      ]
     },
     "execution_count": 19,
     "metadata": {},
     "output_type": "execute_result"
    }
   ],
   "source": [
    "df_model=df[df['gender']!='Other']\n",
    "df_model=df_model[df_model['bmi'].notnull()]\n",
    "bmi_bins=[0,18.5,25,30,35,40,100]\n",
    "labels=[1,2,3,4,5,6]\n",
    "df_model['bmi_bin']=pd.cut(df_model['bmi'],right=False,bins=bmi_bins,labels=labels)\n",
    "df_model=df_model[df_model['age'] > 11]\n",
    "age_bins=[12,20,25,60,85] #tuổi lớn nhất của dataframe này <85\n",
    "age_labels=['12-20','20-25','25-60','> 60']\n",
    "df_model['age_bin'] = pd.cut(df_model['age'],right=False,bins=age_bins,labels=age_labels)\n",
    "glu_bins=[0,140,200,500]\n",
    "glu_labels=['0-139','140-199','> 200']\n",
    "df_model['glu_bin'] = pd.cut(df_model['avg_glucose_level'], right=False, bins=glu_bins, labels=glu_labels)\n",
    "df_model=df_model.drop(columns=['id','age','avg_glucose_level','bmi'])\n",
    "df_model.head()"
   ]
  },
  {
   "cell_type": "markdown",
   "id": "abe6680a-b27b-418f-8a65-7c684b563060",
   "metadata": {},
   "source": [
    "Ta sẽ dùng phương thức onehotencoder để chuyển các giá trị về dạng số. Vì các mô hình học máy thường nhận đầu vào là số. Và sau đó, ta chia dữ liệu thành các tập để train và test."
   ]
  },
  {
   "cell_type": "code",
   "execution_count": 20,
   "id": "668da2dc-cfaf-4831-9877-a9f9602ff859",
   "metadata": {},
   "outputs": [
    {
     "data": {
      "text/plain": [
       "<3065x32 sparse matrix of type '<class 'numpy.float64'>'\n",
       "\twith 30650 stored elements in Compressed Sparse Row format>"
      ]
     },
     "execution_count": 20,
     "metadata": {},
     "output_type": "execute_result"
    }
   ],
   "source": [
    "X=df_model.loc[:, df_model.columns != 'stroke']\n",
    "y=df_model.loc[:,'stroke']\n",
    "le = preprocessing.LabelEncoder()\n",
    "enc = OneHotEncoder(handle_unknown='ignore')\n",
    "X=enc.fit_transform(X)\n",
    "X_train, X_test, y_train, y_test = train_test_split(X,y, test_size=0.30)\n",
    "X_train"
   ]
  },
  {
   "cell_type": "markdown",
   "id": "82713fff-9f67-4ee5-b2ed-fcd844dc453d",
   "metadata": {},
   "source": [
    "Vì dữ liệu chỉ có khoảng 5 % là bị đột quỵ, nên ta sẽ smote cho dữ liệu cân bằng"
   ]
  },
  {
   "cell_type": "code",
   "execution_count": 21,
   "id": "4fb17a08-f07c-4fa9-8903-73f3f6812f2d",
   "metadata": {},
   "outputs": [],
   "source": [
    "sm = SMOTE(random_state=8)\n",
    "X_train, y_train = sm.fit_resample(X_train, y_train)"
   ]
  },
  {
   "cell_type": "code",
   "execution_count": 22,
   "id": "6ae75732-f086-474d-8108-28a6f4cd6a12",
   "metadata": {},
   "outputs": [
    {
     "name": "stdout",
     "output_type": "stream",
     "text": [
      "Percent \"stroke\": 0.5\n"
     ]
    }
   ],
   "source": [
    "print('Percent \"stroke\":', y_train.sum()/len(y_train))"
   ]
  },
  {
   "cell_type": "markdown",
   "id": "26edb916-615d-454e-a297-f4601361d66e",
   "metadata": {},
   "source": [
    "Ở đây, ta sẽ dùng mô hình phân lớp mlp (đây là 1 mô hình học sâu). Và cuối cùng ta tạo 1 pipeline chứa mô hình học máy mlp. Ta sẽ huấn luyện nó trên tập X_train và y_train"
   ]
  },
  {
   "cell_type": "code",
   "execution_count": 23,
   "id": "57c38c1b-9b07-4a15-848f-d36e7bcee6ce",
   "metadata": {},
   "outputs": [
    {
     "data": {
      "text/plain": [
       "Pipeline(steps=[('mlpclassifier',\n",
       "                 MLPClassifier(hidden_layer_sizes=50, max_iter=10000,\n",
       "                               random_state=0, solver='lbfgs'))])"
      ]
     },
     "execution_count": 23,
     "metadata": {},
     "output_type": "execute_result"
    }
   ],
   "source": [
    "mlpclassifier =  MLPClassifier(hidden_layer_sizes=(50), activation='relu', solver='lbfgs', random_state=0, max_iter=10000)\n",
    "\n",
    "full_pipeline=make_pipeline(mlpclassifier)\n",
    "full_pipeline.fit(X_train, y_train)\n",
    "full_pipeline"
   ]
  },
  {
   "cell_type": "markdown",
   "id": "3e023437-f8cf-4bc4-8cbc-93f784d9e62b",
   "metadata": {},
   "source": [
    "Ta sẽ xem thử độ chính xác là bao nhiêu"
   ]
  },
  {
   "cell_type": "code",
   "execution_count": 24,
   "id": "15451393-4651-4101-9947-1fde6f45e08c",
   "metadata": {},
   "outputs": [
    {
     "data": {
      "text/plain": [
       "0.9101978691019786"
      ]
     },
     "execution_count": 24,
     "metadata": {},
     "output_type": "execute_result"
    }
   ],
   "source": [
    "y_pred = full_pipeline.predict(X_test)\n",
    "accuracy_score(y_pred, y_test)"
   ]
  },
  {
   "cell_type": "code",
   "execution_count": 25,
   "id": "f6896801-07ce-4f30-98d1-ccc7c1d620c3",
   "metadata": {},
   "outputs": [],
   "source": [
    "def plot_confusion_matrix(cm, classes,\n",
    "                          normalize=False,\n",
    "                          title='Confusion matrix',\n",
    "                          cmap=plt.cm.Blues):\n",
    "    \"\"\"\n",
    "    This function prints and plots the confusion matrix.\n",
    "    Normalization can be applied by setting `normalize=True`.\n",
    "    \"\"\"\n",
    "    if normalize:\n",
    "        cm = cm.astype('float') / cm.sum(axis=1)[:, np.newaxis]\n",
    "        print(\"Normalized confusion matrix\")\n",
    "    else:\n",
    "        print('Confusion matrix, without normalization')\n",
    "\n",
    "    print(cm)\n",
    "\n",
    "    plt.imshow(cm, interpolation='nearest', cmap=cmap)\n",
    "    plt.title(title)\n",
    "    plt.colorbar()\n",
    "    tick_marks = np.arange(len(classes))\n",
    "    plt.xticks(tick_marks, classes, rotation=45)\n",
    "    plt.yticks(tick_marks, classes)\n",
    "\n",
    "    fmt = '.2f' if normalize else 'd'\n",
    "    thresh = cm.max() / 2.\n",
    "    for i, j in itertools.product(range(cm.shape[0]), range(cm.shape[1])):\n",
    "        plt.text(j, i, format(cm[i, j], fmt),\n",
    "                 horizontalalignment=\"center\",\n",
    "                 color=\"white\" if cm[i, j] > thresh else \"black\")\n",
    "\n",
    "    plt.tight_layout()\n",
    "    plt.ylabel('True label')\n",
    "    plt.xlabel('Predicted label')"
   ]
  },
  {
   "cell_type": "code",
   "execution_count": 26,
   "id": "0dc5f6af-4f45-415e-bf8d-14b0b7d120e9",
   "metadata": {},
   "outputs": [
    {
     "name": "stdout",
     "output_type": "stream",
     "text": [
      "Confusion matrix, without normalization\n",
      "[[  11   44]\n",
      " [  74 1185]]\n"
     ]
    },
    {
     "data": {
      "image/png": "[encoded data removed]",
      "text/plain": [
       "<Figure size 576x396 with 2 Axes>"
      ]
     },
     "metadata": {},
     "output_type": "display_data"
    }
   ],
   "source": [
    "cm=confusion_matrix(y_test,y_pred,labels=[1,0])\n",
    "plot_confusion_matrix(cm, classes=['stroke=1','stroke=0'],normalize= False,  title='Confusion matrix')\n"
   ]
  },
  {
   "cell_type": "markdown",
   "id": "2ad52284-f0f6-46e2-8f37-03c4b2d8fbe3",
   "metadata": {},
   "source": [
    "Ở đây ta có thể thấy là mô hình học máy của chúng ta phát hiện được 11/55 người bị đột quỵ (khoảng 20%). Từ đó ta có thể dự đoán trước cho mọi người liệu họ có nguy cơ mắc phải đột quỵ trong tương lai gần hay không để họ điều chỉnh lối sống lành mạnh hơn và chuẩn bị trước cho trường hợp xấu nhất có thể xảy ra. Bên cạnh đó, mô hình học máy của chúng ta có tỉ lệ dương tính giả (false positive) cao hơn tỉ lệ âm tính giả (false negative) là 1 điều tốt. Bởi vì nếu mô hình học máy của ta cứ dự đoán là không bị đột quỵ ở tất cả trường hợp thì tỉ lệ chính xác có thể lên tới 95% (vì chỉ có 5% người trong dữ liệu là bị đột quỵ). Nhưng làm vậy thì chả có ý nghĩa gì."
   ]
  },
  {
   "cell_type": "markdown",
   "id": "00c426f6-815a-4021-bc59-44a1ed546b88",
   "metadata": {},
   "source": [
    "Cuối cùng, ta lưu lại pipeline của mô hình học máy để sau này deploy lên web."
   ]
  },
  {
   "cell_type": "code",
   "execution_count": 27,
   "id": "b972db27-ba83-4748-9e7c-12a5adb2220c",
   "metadata": {},
   "outputs": [],
   "source": [
    "with open('Data/mlp.pkl','wb') as f:\n",
    "    pickle.dump(full_pipeline,f)"
   ]
  },
  {
   "cell_type": "markdown",
   "id": "69454592-75e0-4c3e-ad53-ed906d69d98e",
   "metadata": {},
   "source": [
    "## Deploy\n",
    "### Link deploy: https://strokepredictionindash.herokuapp.com/\n",
    "\n",
    "Đây là 1 trang web dự đoán nguy cơ đột quỵ và biểu diễn 1 vài biểu đồ cho thấy sự liên quan giữa các yếu tố với đột quỵ. Code của web nằm trong file app.py"
   ]
  }
 ],
 "metadata": {
  "kernelspec": {
   "display_name": "Python 3 (ipykernel)",
   "language": "python",
   "name": "python3"
  },
  "language_info": {
   "codemirror_mode": {
    "name": "ipython",
    "version": 3
   },
   "file_extension": ".py",
   "mimetype": "text/x-python",
   "name": "python",
   "nbconvert_exporter": "python",
   "pygments_lexer": "ipython3",
   "version": "3.8.8"
  }
 },
 "nbformat": 4,
 "nbformat_minor": 5
}
